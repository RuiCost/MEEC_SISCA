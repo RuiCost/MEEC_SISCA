{
 "cells": [
  {
   "cell_type": "markdown",
   "id": "484611b7",
   "metadata": {},
   "source": [
    "# Aquisição dos dados dos sensores S1 e S2"
   ]
  },
  {
   "cell_type": "markdown",
   "id": "8315073e",
   "metadata": {},
   "source": [
    "## Carregar bibliotecas"
   ]
  },
  {
   "cell_type": "code",
   "execution_count": 55,
   "id": "110faf23",
   "metadata": {},
   "outputs": [],
   "source": [
    "from pyfirmata import Arduino, util\n",
    "import time\n",
    "\n",
    "import numpy as np\n"
   ]
  },
  {
   "cell_type": "markdown",
   "id": "bd5550dc",
   "metadata": {},
   "source": [
    "## Configurações"
   ]
  },
  {
   "cell_type": "code",
   "execution_count": 56,
   "id": "f007c020",
   "metadata": {},
   "outputs": [],
   "source": [
    "# Porta COM #### AJUSTAR porta ####\n",
    "board = Arduino('COM5')\n",
    "\n",
    "iterator = util.Iterator(board)\n",
    "iterator.start()\n",
    "\n",
    "# Entradas analógicas\n",
    "T_S1 = board.get_pin('a:0:i') # A0\n",
    "T_S2 = board.get_pin('a:1:i') # A1\n",
    "\n",
    "# Saídas PWM\n",
    "S1 = board.get_pin('d:10:p')  # Pino 10\n",
    "S2 = board.get_pin('d:9:p')   # Pino 9\n",
    "\n",
    "time.sleep(1)\n"
   ]
  },
  {
   "cell_type": "markdown",
   "id": "c5dbfb8a",
   "metadata": {},
   "source": [
    "## Funções "
   ]
  },
  {
   "cell_type": "code",
   "execution_count": 57,
   "id": "9d71b26b",
   "metadata": {},
   "outputs": [],
   "source": [
    "# Função de conversão ADC - Temperatura\n",
    "def TEMP(val):\n",
    "    return (val*5000.0-500.0)/10.0\n",
    "\n",
    "# Funções temperaturas\n",
    "def T1():\n",
    "    return TEMP(T_S1.read())\n",
    "\n",
    "def T2():\n",
    "    return TEMP(T_S2.read())\n"
   ]
  },
  {
   "cell_type": "markdown",
   "id": "09449fa1",
   "metadata": {},
   "source": [
    "## Aquisição dos dados"
   ]
  },
  {
   "cell_type": "code",
   "execution_count": 58,
   "id": "9036ed8f",
   "metadata": {},
   "outputs": [
    {
     "name": "stdout",
     "output_type": "stream",
     "text": [
      " t,    u,    T1)\n",
      "0.0,50.0,27.7\n",
      "10.0,50.0,28.7\n",
      "20.0,50.0,31.1\n",
      "30.0,50.0,33.1\n",
      "40.0,50.0,35.5\n",
      "50.0,50.0,37.5\n",
      "60.0,50.0,39.0\n",
      "70.0,50.0,40.9\n",
      "80.0,50.0,42.9\n",
      "90.0,50.0,43.9\n",
      "100.0,50.0,44.8\n",
      "110.0,50.0,45.8\n",
      "120.0,50.0,46.8\n",
      "130.0,50.0,47.2\n",
      "140.0,50.0,48.2\n",
      "150.0,50.0,48.8\n",
      "160.0,50.0,48.8\n",
      "170.0,50.0,49.7\n",
      "180.0,50.0,50.2\n",
      "190.0,50.0,50.7\n",
      "200.0,50.0,50.7\n",
      "210.0,50.0,51.1\n",
      "220.0,50.0,52.1\n",
      "230.0,50.0,52.1\n",
      "240.0,50.0,52.6\n",
      "250.0,50.0,52.6\n",
      "260.0,50.0,53.6\n",
      "270.0,50.0,53.6\n",
      "280.0,50.0,54.1\n",
      "290.0,50.0,54.6\n",
      "300.0,50.0,54.1\n",
      "310.0,50.0,54.6\n",
      "320.0,50.0,54.6\n",
      "330.0,50.0,55.1\n",
      "340.0,50.0,55.1\n",
      "350.0,50.0,55.5\n",
      "360.0,50.0,55.5\n",
      "370.0,50.0,55.1\n",
      "380.0,50.0,55.5\n",
      "390.0,50.0,56.0\n",
      "400.0,50.0,56.0\n",
      "410.0,50.0,56.0\n",
      "420.0,50.0,56.0\n",
      "430.0,50.0,56.0\n",
      "440.0,50.0,56.0\n",
      "450.0,50.0,56.0\n",
      "460.0,50.0,56.0\n",
      "470.0,50.0,56.0\n",
      "480.0,50.0,56.0\n",
      "490.0,50.0,56.0\n",
      "500.0,50.0,56.0\n",
      "510.0,50.0,56.0\n",
      "520.0,50.0,56.0\n",
      "530.0,50.0,56.0\n",
      "540.0,50.0,56.0\n",
      "550.0,50.0,56.0\n",
      "560.0,50.0,56.0\n",
      "570.0,50.0,56.0\n",
      "580.0,50.0,56.0\n",
      "590.0,50.0,56.0\n",
      "600.0,50.0,56.0\n"
     ]
    }
   ],
   "source": [
    "# Resposta ao degrau  #### AJUSTAR para S1 ou S2 ####\n",
    "Ts = 1       # período de amostragem\n",
    "\n",
    "tf = 600.0    # tempo final \n",
    "\n",
    "n = int(np.round(tf/Ts+1))  # número de amostras\n",
    "temp1 = np.zeros(n)         # vetor para temperatura\n",
    "t = np.linspace(0,n-1,n)*Ts # vetor de tempo\n",
    "\n",
    "# Entrada de controlo \n",
    "u = 50 # 50% PWM\n",
    "u1 = np.ones(n)*u\n",
    "print(' t,    u,    T1)')\n",
    "\n",
    "# Ativar a saída do Arduino conforme a entrada de controlo\n",
    "S1.write(u/100)\n",
    "\n",
    "# Ler temperatura do sistema e guardar no vetor  \n",
    "for i in range(n):\n",
    "    # ler temperatura\n",
    "    temp1[i] = T1()\n",
    "    if i%10 == 0:\n",
    "        #print(str(t[i])+'   '+str(u1[i])+'   '+str(temp1[i]))\n",
    "        print(f'{t[i]:3.1f},{u1[i]:3.1f},{temp1[i]:3.1f}')\n",
    "    time.sleep(Ts)\n",
    "    \n",
    "# Desligar sistema\n",
    "S1.write(0.0)\n",
    "board.exit() # terminar comunicação com placa\n"
   ]
  },
  {
   "cell_type": "markdown",
   "id": "bedd2a43",
   "metadata": {},
   "source": [
    "## Visualizar dados"
   ]
  },
  {
   "cell_type": "code",
   "execution_count": 59,
   "id": "54c5a939",
   "metadata": {},
   "outputs": [
    {
     "data": {
      "image/png": "[encoded data removed]",
      "text/plain": [
       "<Figure size 640x480 with 2 Axes>"
      ]
     },
     "metadata": {},
     "output_type": "display_data"
    }
   ],
   "source": [
    "# Carregar biblioteca para visualização\n",
    "import matplotlib.pyplot as plt\n",
    "\n",
    "# Gráficos #### AJUSTAR para S1 ou S2 ####\n",
    "plt.figure()\n",
    "\n",
    "# Saída\n",
    "ax = plt.subplot(2,1,1)\n",
    "ax.grid()\n",
    "plt.plot(t,temp1,'k-',label='T1')\n",
    "plt.ylabel('Temperatura ($^oC$)')\n",
    "plt.legend(loc='best')\n",
    "\n",
    "# Entrada\n",
    "ax = plt.subplot(2,1,2)\n",
    "ax.grid()\n",
    "plt.plot(t,u1,'b-',label='u')\n",
    "plt.ylabel('Controlo (%)')\n",
    "plt.xlabel('Tempo (s)')\n",
    "plt.legend()\n",
    "\n",
    "# Guardar gráficos num ficheiro .png\n",
    "plt.savefig('degrau_S1.png')\n",
    "plt.show()\n"
   ]
  },
  {
   "cell_type": "markdown",
   "id": "bfb88b72",
   "metadata": {},
   "source": [
    "## Guardar dados em ficheiro"
   ]
  },
  {
   "cell_type": "code",
   "execution_count": 60,
   "id": "ef74cc62",
   "metadata": {},
   "outputs": [],
   "source": [
    "# Guardar os dados num ficheiro de texto #### AJUSTAR para S1 ou S2 ####\n",
    "dados = np.vstack((t,u1,temp1)).T\n",
    "np.savetxt('dados_S1.txt',dados,delimiter=',',\\\n",
    "           header='t,u,T1',comments='')\n"
   ]
  }
 ],
 "metadata": {
  "kernelspec": {
   "display_name": "Python 3",
   "language": "python",
   "name": "python3"
  },
  "language_info": {
   "codemirror_mode": {
    "name": "ipython",
    "version": 3
   },
   "file_extension": ".py",
   "mimetype": "text/x-python",
   "name": "python",
   "nbconvert_exporter": "python",
   "pygments_lexer": "ipython3",
   "version": "3.13.0"
  }
 },
 "nbformat": 4,
 "nbformat_minor": 5
}
