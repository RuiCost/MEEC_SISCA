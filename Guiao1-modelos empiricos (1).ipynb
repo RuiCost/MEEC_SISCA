{
 "cells": [
  {
   "attachments": {},
   "cell_type": "markdown",
   "id": "c7e9151d-07bd-4709-a76d-bb5949bcfce8",
   "metadata": {},
   "source": [
    "# Modelação de Sistemas Térmicos Usando Modelos de Primeira Ordem\n",
    "O objetivo deste guião laboratorial é realizar a modelação dos sistemas térmicos $1$ e $2$ (`S1` e `S2`) do **SERT** usando modelos de primeira ordem com e sem tempo de atraso.  \n",
    "\n",
    "Os modelos do processo são determinados para uma entrada em degrau correspondente a $50$% do sinal de controlo aplicado ao sistema correspondente, `T1` ou `T2`. O período de amostragem é de $1$ segundo."
   ]
  },
  {
   "cell_type": "markdown",
   "id": "50f470fd-98d9-4d81-a051-35565a8215f8",
   "metadata": {},
   "source": [
    "## 1. Introdução\n",
    "Para o controlo de temperatura, não é necessário utilizar um modelo detalhado do processo. Uma lógica de controlo simples pode ser suficiente para operar o sistema. No entanto, compreender e explicar o comportamento resultante desse controlo é altamente desejável, especialmente ao tentar projetar um algoritmo mais eficaz ou inteligente. Neste trabalho, o objetivo é derivar modelos de primeira ordem para descrever a dinâmica térmica do sistema, com base em sua resposta a um degrau. Isso permitirá obter um modelo matemático que descreva o sistema, sem a necessidade de considerar os aspectos físicos subjacentes."
   ]
  },
  {
   "cell_type": "markdown",
   "id": "c8b59b67-dfce-4c08-b47a-e561e4c49bc1",
   "metadata": {},
   "source": [
    "## 2. Respostas ao Degrau dos Sistemas Térmicos\n",
    "Nesta secção, os dados de temperatura dos sistemas `S1` e `S2` são obtidos e visualizados. "
   ]
  },
  {
   "cell_type": "markdown",
   "id": "764ddabc-3d50-4272-9d42-b7be661199f8",
   "metadata": {},
   "source": [
    "### 2.1 Sistema S1\n",
    "Para a aquisição da temperatura do sistema `S1` configure a entrada analógica para o pino `A0` (sensor `S1`) e a saída de PWM no pino 10 (transístor `T1`). Para isso, utilize o Jupyter Notebook `Aquisicao_dados_S1_S2.ipynb` disponibilizado na página do Moodle da UC.\n"
   ]
  },
  {
   "cell_type": "markdown",
   "id": "b883abe9-f088-458e-aba1-8045739757d3",
   "metadata": {},
   "source": [
    "Apresente a curva de resposta da temperatura do sistema térmico `S1` para uma entrada em degrau de amplitude de $50$% do *duty cycle* (PWM do transístor `T1` a $50$%). Para isso, carregue o ficheiro de dados gravado correspondente, por exemplo, `dados_S1.txt` para o ficheiro com os dados de `S1`. \n",
    "Teça alguns comentários aos valores e forma dos dados experimentais obtidos."
   ]
  },
  {
   "cell_type": "code",
   "execution_count": null,
   "id": "a64bb37f-78ea-4088-a958-77a3aed18214",
   "metadata": {},
   "outputs": [],
   "source": [
    "# Coloque o código/comentários AQUI\n",
    "\n",
    "\n"
   ]
  },
  {
   "cell_type": "markdown",
   "id": "33b17262-a94e-40e8-955c-4dc870e7d795",
   "metadata": {},
   "source": [
    "### 2.2 Sistema S2\n",
    "Para a aquisição da temperatura do sistema `S2` configure a entrada analógica para o pino `A1` (sensor `S2`) e a saída de PWM no pino 9 (transístor `T2`). Para isso, utilize o Jupyter Notebook `Aquisicao_dados_S1_S2.ipynb` disponibilizado na página do Moodle da UC.\n",
    "\n",
    "Apresente a curva de resposta da temperatura do sistema térmico `S2` para uma entrada em degrau de amplitude de $50$% do *duty cycle* (PWM do transístor `T2` a $50$%).  Para isso, carregue o ficheiro de dados gravado correspondente, por exemplo, `dados_S2.txt` para o ficheiro com os dados de `S2`. \n",
    "Teça alguns comentários aos valores e forma dos dados experimentais obtidos."
   ]
  },
  {
   "cell_type": "code",
   "execution_count": null,
   "id": "a85d21e8-f76a-4758-897b-a1724b8222f6",
   "metadata": {},
   "outputs": [],
   "source": [
    "# Coloque o código/comentários AQUI\n",
    "\n",
    "\n"
   ]
  },
  {
   "cell_type": "markdown",
   "id": "e504b021-7817-4395-b5ab-a0081157bf64",
   "metadata": {},
   "source": [
    "## 3.\tModelos Empíricos dos Sistemas\n",
    "Observando as respostas ao degrau, verifica-se que podem surgir alguns problemas na estimativa dos parâmetros do modelo por causa do ruído no sinal e devido ao *drift* nos dados. O efeito do ruído pode ser minimizado por uma filtragem passa-baixo, ou suavização, dos dados. O *drift* pode ser devido a inúmeros efeitos externos, como por exemplo, variações na temperatura ambiente, variações de amplitude da tensão, correntes de ar (convecção) e erros no sensor.\n",
    "\n",
    "Para uma análise inicial dos resultados utiliza-se o índice de desempenho $SSE$ (*Sum of Squared Errors*):\n",
    "\n",
    "$$ SSE = \\sum_{i=1}^{N}(\\hat{y}_i-yi)^2 \\tag{1} $$\n",
    "\n",
    "Este índice dá-nos uma indicação mais exata da proximidade entre o modelo e os dados de uma dada experiência. $N$ é o número total de amostras da resposta do processo, $\\hat{y}_i$ os dados da resposta do modelo e $y_i$ os dados da resposta do processo. "
   ]
  },
  {
   "attachments": {
    "f34ca142-f3b5-4619-a4c1-1a8156f8f6fd.PNG": {
     "image/png": "[encoded data removed]"
    }
   },
   "cell_type": "markdown",
   "id": "d2584b67-453a-40a3-b287-93e31fdc03cb",
   "metadata": {},
   "source": [
    "### 3.1\tSistema de Primeira Ordem – S1\n",
    "A curva de resposta de temperatura do sistema `S1` indica que a dinâmica térmica do sistema pode ser aproximada por uma função de transferência de primeira ordem:\n",
    "\n",
    "$$ G(s)=\\frac{Y(s)}{U(s)}=\\frac{K}{\\tau s+1} \\tag{2} \n",
    "$$\n",
    "\n",
    "onde $K$ é o ganho DC do sistema e $\\tau$ a constante de tempo.\n",
    "\n",
    "Considere o exemplo da curva de temperatura representada na figura seguinte. A partir da curva, obtenha a temperatura ambiente (temperatura inicial do sistema) $T_0$ e a temperatura estabilizada do sistema $T_{ss}$. Considerando que a entrada é igual a $50$% do valor máximo aplicado ao atuador, e a saída é $\\Delta T$, determine o ganho DC,  $K$, do sistema aproximado. Calcule a constante de tempo $\\tau$ como o tempo necessário para a resposta do sistema alcançar $63.2$% da sua variação total. \n",
    "\n",
    "![fig_modelo_S1.PNG](attachment:f34ca142-f3b5-4619-a4c1-1a8156f8f6fd.PNG)\n",
    "\n",
    "Calcule e apresente os valores obtidos a partir da curva de temperatura de `S1` para a definição do modelo de primeira ordem, ou seja, forneça os valores de $T_0$, $T_{ss}$, $\\Delta_T$, $K$, $\\tau$ e $SSE$."
   ]
  },
  {
   "cell_type": "code",
   "execution_count": null,
   "id": "8b631400-7ad0-4579-9b91-147fa9e2aa75",
   "metadata": {},
   "outputs": [],
   "source": [
    "# Coloque o código AQUI\n",
    "\n",
    "\n"
   ]
  },
  {
   "attachments": {},
   "cell_type": "markdown",
   "id": "1a8320aa-d0c1-4770-879a-3d8a81cdc948",
   "metadata": {},
   "source": [
    "Com base nos parâmetros identificados, apresente a função de transferência do modelo estimado do sistema térmico, $G(s)$.\n",
    "\n"
   ]
  },
  {
   "cell_type": "code",
   "execution_count": null,
   "id": "0f5bd538-9975-47cc-a64b-a9359d3c597c",
   "metadata": {},
   "outputs": [],
   "source": [
    "# Coloque o código AQUI\n",
    "\n"
   ]
  },
  {
   "cell_type": "markdown",
   "id": "d660de7e-1b71-446f-b3b7-2812909a292c",
   "metadata": {},
   "source": [
    "Para se obter uma melhor perceção de quão bem o modelo derivado se adapta aos dados da curva de temperatura, esboce no mesmo gráfico as duas curvas de temperatura: a do modelo e a do sistema térmico. Teça alguns comentários face à aproximação obtida."
   ]
  },
  {
   "cell_type": "code",
   "execution_count": null,
   "id": "6e37be89-5aa7-485a-9e05-ac92169b8085",
   "metadata": {},
   "outputs": [],
   "source": [
    "# Coloque o código/comentários AQUI\n",
    "\n",
    "\n"
   ]
  },
  {
   "attachments": {
    "05a8a86c-1414-47eb-a865-296243545cb3.PNG": {
     "image/png": "[encoded data removed]"
    }
   },
   "cell_type": "markdown",
   "id": "1c17692c-e367-4d8b-a485-220e0b4210f7",
   "metadata": {},
   "source": [
    "### 3.2\tSistema de Primeira Ordem com Atraso – S2\n",
    "A curva de resposta de temperatura do sistema `S2` indica que a dinâmica térmica do sistema pode ser aproximada por uma função de transferência de primeira ordem com um tempo de atraso:\n",
    "\n",
    "$$ G(s)=\\frac{Y(s)}{U(s)}=\\frac{Ke^{-\\tau_Ds}}{\\tau s+1} \\tag{3} \n",
    "$$\n",
    "\n",
    "onde $K$ é o ganho DC do sistema, $\\tau$ a constante de tempo e $\\tau_D$ o tempo de atraso.\n",
    "\n",
    "Considere o exemplo da curva de temperatura representada na figura seguinte. A partir da curva, obtenha a temperatura ambiente (temperatura inicial do sistema) $T_0$ e a temperatura estabilizada do sistema $T_{ss}$. Considerando que a entrada é igual a $50$% do valor máximo aplicado ao atuador, e a saída é $\\Delta T$, determine o ganho DC, $K$, do sistema aproximado. Calcule a constante de tempo $\\tau$ e o tempo de atraso $\\tau_D$ aplicando o método dos dois pontos, tal como indicado no gráfico.\n",
    "\n",
    "![fig_modelo_S2.PNG](attachment:05a8a86c-1414-47eb-a865-296243545cb3.PNG)\n",
    "\n",
    "Calcule e apresente os valores obtidos a partir da curva de temperatura de `S2` para a definição do modelo de primeira ordem com atraso, ou seja, forneça os valores de $T_0$, $T_{ss}$, $\\Delta_T$, $K$, $\\tau=3/2(t_2-t_1)$, $\\tau_D=t_2-\\tau$ e $SSE$."
   ]
  },
  {
   "cell_type": "code",
   "execution_count": null,
   "id": "13ea1756-fbd6-40dd-bf25-8ca655610d96",
   "metadata": {},
   "outputs": [],
   "source": [
    "# Coloque o código AQUI\n",
    "\n",
    "\n"
   ]
  },
  {
   "attachments": {},
   "cell_type": "markdown",
   "id": "a579250d-7199-4bcc-b827-c487b589d453",
   "metadata": {},
   "source": [
    "Com base nos parâmetros identificados, apresente a função de transferência do modelo estimado do sistema térmico, $G(s)$."
   ]
  },
  {
   "cell_type": "code",
   "execution_count": null,
   "id": "08ba4d19-42fd-4b1a-ae4e-fceeeafb41e6",
   "metadata": {},
   "outputs": [],
   "source": [
    "# Coloque o código AQUI\n",
    "\n",
    "\n"
   ]
  },
  {
   "cell_type": "markdown",
   "id": "65f03cf8-60b5-448e-902a-a85deee33bc5",
   "metadata": {},
   "source": [
    "Para se obter uma melhor perceção de quão bem o modelo derivado se adapta aos dados da curva de temperatura, esboce no mesmo gráfico as duas curvas de temperatura: a do modelo e a do sistema térmico. Teça alguns comentários face à aproximação obtida."
   ]
  },
  {
   "cell_type": "code",
   "execution_count": null,
   "id": "37c600ff-dd1b-4a4b-87bd-56e322abbc38",
   "metadata": {},
   "outputs": [],
   "source": [
    "# Coloque o código/comentários AQUI\n",
    "\n",
    "\n"
   ]
  },
  {
   "cell_type": "markdown",
   "id": "666ce3cb-c742-4a00-b50b-87d5e61bb55e",
   "metadata": {},
   "source": [
    "### 3.3\tSistemas de Primeira Ordem – Otimização\n",
    "Obtenha os parâmetros dos modelos de primeira ordem representados pelas funções de transferência (2) e (3) usando um método de otimização.\n"
   ]
  },
  {
   "cell_type": "markdown",
   "id": "87a9bf01-4968-4650-83b5-8f7b276b4af5",
   "metadata": {},
   "source": [
    "### Sistema S1\n",
    "Defina a função da resposta do modelo, utilize um método de optimização, e apresente os valores óptimos dos parâmetros do modelo. Visualize os resultados num gráfico com as duas curvas: a do modelo e a dos dados de processo experimentais. Comente os resultados obtidos."
   ]
  },
  {
   "cell_type": "code",
   "execution_count": null,
   "id": "2f3bcc54-8ee4-4fb6-a066-d377209974e3",
   "metadata": {},
   "outputs": [],
   "source": [
    "# Coloque o código/comentários AQUI\n",
    "\n",
    "\n"
   ]
  },
  {
   "cell_type": "markdown",
   "id": "c9053af5-93ea-496c-aa5b-f6b7dc752e66",
   "metadata": {},
   "source": [
    "Faça uma comparação com o modelo estimado no ponto 3.1. Para isso, apresente na mesma figura as duas curvas: a do modelo optimizado e a do modelo empírico, juntamente com os dados do processo. Comente as aproximações obtidas."
   ]
  },
  {
   "cell_type": "code",
   "execution_count": null,
   "id": "e862144d-d1bf-4de2-8d87-560fb5550bc7",
   "metadata": {},
   "outputs": [],
   "source": [
    "# Coloque o código/comentários AQUI\n",
    "\n",
    "\n"
   ]
  },
  {
   "cell_type": "markdown",
   "id": "5eb7b978-a547-454b-96ba-0cd95061a531",
   "metadata": {},
   "source": [
    "Para efeitos de comparação entre os dois modelos, o empírico e o optimizado, utilize a métrica de desempenho $MAE$ (*Mean Absolute Error*):\n",
    "\n",
    "$$ MAE = \\frac{1}{N}\\sum_{i=1}^{N}|\\hat{y}_i-yi| $$\n",
    "\n",
    "onde $\\hat{y}_i$ é a resposta do modelo e $y_i$ a resposta do processo. $N$ é o número de amostras das respostas. \n",
    "\n",
    "Comente os resultados obtidos."
   ]
  },
  {
   "cell_type": "code",
   "execution_count": null,
   "id": "86a8e99f-f71d-4060-9acf-13b60ce84b85",
   "metadata": {},
   "outputs": [],
   "source": [
    "# Coloque o código/comentários AQUI\n",
    "\n",
    "\n"
   ]
  },
  {
   "cell_type": "markdown",
   "id": "2bbaf9eb-9c65-4185-a0f0-0da3953ee180",
   "metadata": {},
   "source": [
    "### Sistema S2\n",
    "Defina a função da resposta do modelo, utilize um método de optimização, e apresente os valores óptimos do parâmetros do modelo. Visualize os resultados num gráfico com as duas curvas: a do modelo e a dos dados de processo experimentais. Comente os resultados obtidos."
   ]
  },
  {
   "cell_type": "code",
   "execution_count": null,
   "id": "9e50a72a-24f7-42b1-a9d7-231f378b6d1a",
   "metadata": {},
   "outputs": [],
   "source": [
    "# Coloque o código/comentários AQUI\n",
    "\n",
    "\n"
   ]
  },
  {
   "cell_type": "markdown",
   "id": "e171bc81-a3f8-4fd6-8bd0-6c631fc5500e",
   "metadata": {},
   "source": [
    "Faça uma comparação com o modelo estimado no ponto 3.2. Para isso, apresente na mesma figura as duas curvas: a do modelo optimizado e a do modelo empírico, juntamente com os dados do processo. Comente as aproximações obtidas. "
   ]
  },
  {
   "cell_type": "code",
   "execution_count": null,
   "id": "4776fdd7-3d47-4f77-a812-dde31f20ee5a",
   "metadata": {},
   "outputs": [],
   "source": [
    "# Coloque o código/comentários AQUI\n",
    "\n",
    "\n"
   ]
  },
  {
   "cell_type": "markdown",
   "id": "05a5fa4b-4e19-4251-84f6-7345065c8d77",
   "metadata": {},
   "source": [
    "Para efeitos de comparação entre os dois modelos, o empírico e o optimizado, utilize a métrica de desempenho $MSE$ (*Mean Squared Error*):\n",
    "\n",
    "$$ MSE = \\frac{1}{N}\\sum_{i=1}^{N}(\\hat{y}_i-yi)^2 $$\n",
    "\n",
    "onde $\\hat{y}_i$ é a resposta do modelo e $y_i$ a resposta do processo. $N$ é o número de amostras das respostas. \n",
    "\n",
    "Comente os resultados obtidos."
   ]
  },
  {
   "cell_type": "code",
   "execution_count": null,
   "id": "b90f428e-02c4-44ca-a3a7-282333ff9f0a",
   "metadata": {},
   "outputs": [],
   "source": [
    "# Coloque o código/comentários AQUI\n",
    "\n",
    "\n"
   ]
  }
 ],
 "metadata": {
  "kernelspec": {
   "display_name": "Python 3 (ipykernel)",
   "language": "python",
   "name": "python3"
  },
  "language_info": {
   "codemirror_mode": {
    "name": "ipython",
    "version": 3
   },
   "file_extension": ".py",
   "mimetype": "text/x-python",
   "name": "python",
   "nbconvert_exporter": "python",
   "pygments_lexer": "ipython3",
   "version": "3.9.19"
  }
 },
 "nbformat": 4,
 "nbformat_minor": 5
}
